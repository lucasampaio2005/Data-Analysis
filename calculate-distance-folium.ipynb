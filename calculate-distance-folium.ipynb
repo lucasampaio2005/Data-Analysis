{
  "nbformat": 4,
  "nbformat_minor": 0,
  "metadata": {
    "colab": {
      "provenance": []
    },
    "kernelspec": {
      "name": "python3",
      "display_name": "Python 3"
    },
    "language_info": {
      "name": "python"
    }
  },
  "cells": [
    {
      "cell_type": "code",
      "execution_count": 2,
      "metadata": {
        "colab": {
          "base_uri": "https://localhost:8080/"
        },
        "id": "pcHQYV-mKeEW",
        "outputId": "cede5ca9-55a9-4f9b-a60f-d0295fa10e35"
      },
      "outputs": [
        {
          "output_type": "stream",
          "name": "stdout",
          "text": [
            "Distance between Pakanem and Vartii: 8.756189661114977 km\n"
          ]
        }
      ],
      "source": [
        "import geopandas as gpd\n",
        "from geopy.distance import geodesic\n",
        "\n",
        "data = {'City' : ['Pakanen', 'Vartii'],  'Latitude' : [64.79551688035444, 64.80190912939874], 'Longitude' : [25.135646443838855, 24.952033960534163]}\n",
        "\n",
        "gdf = gpd.GeoDataFrame(data, geometry=gpd.points_from_xy(data[\"Longitude\"], data[\"Latitude\"]))\n",
        "coords_Pakanen = (gdf.loc[0, \"Latitude\"], gdf.loc[0, \"Longitude\"])\n",
        "coords_Vartii = (gdf.loc[1, \"Latitude\"], gdf.loc[1, \"Longitude\"])\n",
        "\n",
        "distance = geodesic(coords_Pakanen, coords_Vartii).kilometers\n",
        "print(f\"Distance between Pakanem and Vartii: {distance} km\")"
      ]
    },
    {
      "cell_type": "code",
      "source": [
        "import folium\n",
        "\n",
        "midpoint = [(gdf['Latitude'].mean()), (gdf['Longitude'].mean())]\n",
        "m = folium.Map(location=midpoint, zoom_start=4)\n",
        "\n",
        "for idx, row in gdf.iterrows():\n",
        "  folium.Marker(\n",
        "      location= [row[\"Latitude\"], row[\"Longitude\"]], popup=row[\"City\"]\n",
        "  ).add_to(m)\n",
        "\n",
        "line = folium.PolyLine(locations=[(gdf.loc[0, \"Latitude\"], gdf.loc[0, \"Longitude\"]), (gdf.loc[1, \"Latitude\"], gdf.loc[1, \"Longitude\"])],\n",
        "                       color=\"blue\", weight=2.5, opacity=1)\n",
        "\n",
        "m.add_child(line)\n",
        "m"
      ],
      "metadata": {
        "colab": {
          "base_uri": "https://localhost:8080/",
          "height": 1000
        },
        "id": "vy-R55Y0Oy3U",
        "outputId": "595a871f-698b-4972-b0bb-d4ab6977b908"
      },
      "execution_count": 4,
      "outputs": [
        {
          "output_type": "execute_result",
          "data": {
            "text/plain": [
              "<folium.folium.Map at 0x78b7c7955b50>"
            ],
            "text/html": [
              "<div style=\"width:100%;\"><div style=\"position:relative;width:100%;height:0;padding-bottom:60%;\"><span style=\"color:#565656\">Make this Notebook Trusted to load map: File -> Trust Notebook</span><iframe srcdoc=\"&lt;!DOCTYPE html&gt;\n",
              "&lt;html&gt;\n",
              "&lt;head&gt;\n",
              "    \n",
              "    &lt;meta http-equiv=&quot;content-type&quot; content=&quot;text/html; charset=UTF-8&quot; /&gt;\n",
              "    \n",
              "        &lt;script&gt;\n",
              "            L_NO_TOUCH = false;\n",
              "            L_DISABLE_3D = false;\n",
              "        &lt;/script&gt;\n",
              "    \n",
              "    &lt;style&gt;html, body {width: 100%;height: 100%;margin: 0;padding: 0;}&lt;/style&gt;\n",
              "    &lt;style&gt;#map {position:absolute;top:0;bottom:0;right:0;left:0;}&lt;/style&gt;\n",
              "    &lt;script src=&quot;https://cdn.jsdelivr.net/npm/leaflet@1.9.3/dist/leaflet.js&quot;&gt;&lt;/script&gt;\n",
              "    &lt;script src=&quot;https://code.jquery.com/jquery-3.7.1.min.js&quot;&gt;&lt;/script&gt;\n",
              "    &lt;script src=&quot;https://cdn.jsdelivr.net/npm/bootstrap@5.2.2/dist/js/bootstrap.bundle.min.js&quot;&gt;&lt;/script&gt;\n",
              "    &lt;script src=&quot;https://cdnjs.cloudflare.com/ajax/libs/Leaflet.awesome-markers/2.0.2/leaflet.awesome-markers.js&quot;&gt;&lt;/script&gt;\n",
              "    &lt;link rel=&quot;stylesheet&quot; href=&quot;https://cdn.jsdelivr.net/npm/leaflet@1.9.3/dist/leaflet.css&quot;/&gt;\n",
              "    &lt;link rel=&quot;stylesheet&quot; href=&quot;https://cdn.jsdelivr.net/npm/bootstrap@5.2.2/dist/css/bootstrap.min.css&quot;/&gt;\n",
              "    &lt;link rel=&quot;stylesheet&quot; href=&quot;https://netdna.bootstrapcdn.com/bootstrap/3.0.0/css/bootstrap-glyphicons.css&quot;/&gt;\n",
              "    &lt;link rel=&quot;stylesheet&quot; href=&quot;https://cdn.jsdelivr.net/npm/@fortawesome/fontawesome-free@6.2.0/css/all.min.css&quot;/&gt;\n",
              "    &lt;link rel=&quot;stylesheet&quot; href=&quot;https://cdnjs.cloudflare.com/ajax/libs/Leaflet.awesome-markers/2.0.2/leaflet.awesome-markers.css&quot;/&gt;\n",
              "    &lt;link rel=&quot;stylesheet&quot; href=&quot;https://cdn.jsdelivr.net/gh/python-visualization/folium/folium/templates/leaflet.awesome.rotate.min.css&quot;/&gt;\n",
              "    \n",
              "            &lt;meta name=&quot;viewport&quot; content=&quot;width=device-width,\n",
              "                initial-scale=1.0, maximum-scale=1.0, user-scalable=no&quot; /&gt;\n",
              "            &lt;style&gt;\n",
              "                #map_65cd1842c70599c212843830b14e5ee6 {\n",
              "                    position: relative;\n",
              "                    width: 100.0%;\n",
              "                    height: 100.0%;\n",
              "                    left: 0.0%;\n",
              "                    top: 0.0%;\n",
              "                }\n",
              "                .leaflet-container { font-size: 1rem; }\n",
              "            &lt;/style&gt;\n",
              "        \n",
              "&lt;/head&gt;\n",
              "&lt;body&gt;\n",
              "    \n",
              "    \n",
              "            &lt;div class=&quot;folium-map&quot; id=&quot;map_65cd1842c70599c212843830b14e5ee6&quot; &gt;&lt;/div&gt;\n",
              "        \n",
              "&lt;/body&gt;\n",
              "&lt;script&gt;\n",
              "    \n",
              "    \n",
              "            var map_65cd1842c70599c212843830b14e5ee6 = L.map(\n",
              "                &quot;map_65cd1842c70599c212843830b14e5ee6&quot;,\n",
              "                {\n",
              "                    center: [64.79871300487659, 25.04384020218651],\n",
              "                    crs: L.CRS.EPSG3857,\n",
              "                    ...{\n",
              "  &quot;zoom&quot;: 4,\n",
              "  &quot;zoomControl&quot;: true,\n",
              "  &quot;preferCanvas&quot;: false,\n",
              "}\n",
              "\n",
              "                }\n",
              "            );\n",
              "\n",
              "            \n",
              "\n",
              "        \n",
              "    \n",
              "            var tile_layer_557de89730c3327e6c96b5d4a8e23673 = L.tileLayer(\n",
              "                &quot;https://tile.openstreetmap.org/{z}/{x}/{y}.png&quot;,\n",
              "                {\n",
              "  &quot;minZoom&quot;: 0,\n",
              "  &quot;maxZoom&quot;: 19,\n",
              "  &quot;maxNativeZoom&quot;: 19,\n",
              "  &quot;noWrap&quot;: false,\n",
              "  &quot;attribution&quot;: &quot;\\u0026copy; \\u003ca href=\\&quot;https://www.openstreetmap.org/copyright\\&quot;\\u003eOpenStreetMap\\u003c/a\\u003e contributors&quot;,\n",
              "  &quot;subdomains&quot;: &quot;abc&quot;,\n",
              "  &quot;detectRetina&quot;: false,\n",
              "  &quot;tms&quot;: false,\n",
              "  &quot;opacity&quot;: 1,\n",
              "}\n",
              "\n",
              "            );\n",
              "        \n",
              "    \n",
              "            tile_layer_557de89730c3327e6c96b5d4a8e23673.addTo(map_65cd1842c70599c212843830b14e5ee6);\n",
              "        \n",
              "    \n",
              "            var marker_277be0e019e3eed3bbcd2c8e3e128cbb = L.marker(\n",
              "                [64.79551688035444, 25.135646443838855],\n",
              "                {\n",
              "}\n",
              "            ).addTo(map_65cd1842c70599c212843830b14e5ee6);\n",
              "        \n",
              "    \n",
              "        var popup_e6945f2389599fa604a17a73bf83b327 = L.popup({\n",
              "  &quot;maxWidth&quot;: &quot;100%&quot;,\n",
              "});\n",
              "\n",
              "        \n",
              "            \n",
              "                var html_66260c1dedd3a3a6ff1f79231e132ef9 = $(`&lt;div id=&quot;html_66260c1dedd3a3a6ff1f79231e132ef9&quot; style=&quot;width: 100.0%; height: 100.0%;&quot;&gt;Pakanen&lt;/div&gt;`)[0];\n",
              "                popup_e6945f2389599fa604a17a73bf83b327.setContent(html_66260c1dedd3a3a6ff1f79231e132ef9);\n",
              "            \n",
              "        \n",
              "\n",
              "        marker_277be0e019e3eed3bbcd2c8e3e128cbb.bindPopup(popup_e6945f2389599fa604a17a73bf83b327)\n",
              "        ;\n",
              "\n",
              "        \n",
              "    \n",
              "    \n",
              "            var marker_d43bd750f475f087e2bd38e9efd505e2 = L.marker(\n",
              "                [64.80190912939874, 24.952033960534163],\n",
              "                {\n",
              "}\n",
              "            ).addTo(map_65cd1842c70599c212843830b14e5ee6);\n",
              "        \n",
              "    \n",
              "        var popup_76564ff767716779bb91e947e28f5f62 = L.popup({\n",
              "  &quot;maxWidth&quot;: &quot;100%&quot;,\n",
              "});\n",
              "\n",
              "        \n",
              "            \n",
              "                var html_ea6651e04a93b043cd5a58f8f759ee04 = $(`&lt;div id=&quot;html_ea6651e04a93b043cd5a58f8f759ee04&quot; style=&quot;width: 100.0%; height: 100.0%;&quot;&gt;Vartii&lt;/div&gt;`)[0];\n",
              "                popup_76564ff767716779bb91e947e28f5f62.setContent(html_ea6651e04a93b043cd5a58f8f759ee04);\n",
              "            \n",
              "        \n",
              "\n",
              "        marker_d43bd750f475f087e2bd38e9efd505e2.bindPopup(popup_76564ff767716779bb91e947e28f5f62)\n",
              "        ;\n",
              "\n",
              "        \n",
              "    \n",
              "    \n",
              "            var poly_line_1d72e8b793b2798af1d036af40146285 = L.polyline(\n",
              "                [[64.79551688035444, 25.135646443838855], [64.80190912939874, 24.952033960534163]],\n",
              "                {&quot;bubblingMouseEvents&quot;: true, &quot;color&quot;: &quot;blue&quot;, &quot;dashArray&quot;: null, &quot;dashOffset&quot;: null, &quot;fill&quot;: false, &quot;fillColor&quot;: &quot;blue&quot;, &quot;fillOpacity&quot;: 0.2, &quot;fillRule&quot;: &quot;evenodd&quot;, &quot;lineCap&quot;: &quot;round&quot;, &quot;lineJoin&quot;: &quot;round&quot;, &quot;noClip&quot;: false, &quot;opacity&quot;: 1, &quot;smoothFactor&quot;: 1.0, &quot;stroke&quot;: true, &quot;weight&quot;: 2.5}\n",
              "            ).addTo(map_65cd1842c70599c212843830b14e5ee6);\n",
              "        \n",
              "&lt;/script&gt;\n",
              "&lt;/html&gt;\" style=\"position:absolute;width:100%;height:100%;left:0;top:0;border:none !important;\" allowfullscreen webkitallowfullscreen mozallowfullscreen></iframe></div></div>"
            ]
          },
          "metadata": {},
          "execution_count": 4
        }
      ]
    },
    {
      "cell_type": "code",
      "source": [],
      "metadata": {
        "id": "HZiaFS5POy77"
      },
      "execution_count": null,
      "outputs": []
    },
    {
      "cell_type": "code",
      "source": [],
      "metadata": {
        "id": "7igJCI5hOy-C"
      },
      "execution_count": null,
      "outputs": []
    }
  ]
}